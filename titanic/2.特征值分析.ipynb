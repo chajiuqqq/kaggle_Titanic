{
 "cells": [
  {
   "cell_type": "code",
   "execution_count": 1,
   "metadata": {},
   "outputs": [],
   "source": [
    "import pandas as pd\n",
    "import numpy as np\n",
    "import matplotlib.pyplot as plt"
   ]
  },
  {
   "cell_type": "code",
   "execution_count": 2,
   "metadata": {
    "scrolled": true
   },
   "outputs": [
    {
     "name": "stdout",
     "output_type": "stream",
     "text": [
      "<class 'pandas.core.frame.DataFrame'>\n",
      "RangeIndex: 891 entries, 0 to 890\n",
      "Data columns (total 15 columns):\n",
      "Unnamed: 0    891 non-null int64\n",
      "pclass        891 non-null object\n",
      "survived      891 non-null int64\n",
      "name          891 non-null object\n",
      "sex           891 non-null object\n",
      "age           702 non-null float64\n",
      "sibsp         891 non-null int64\n",
      "parch         891 non-null int64\n",
      "ticket        891 non-null object\n",
      "fare          891 non-null float64\n",
      "cabin         200 non-null object\n",
      "embarked      891 non-null object\n",
      "boat          320 non-null object\n",
      "body          80 non-null float64\n",
      "home.dest     504 non-null object\n",
      "dtypes: float64(3), int64(4), object(8)\n",
      "memory usage: 104.5+ KB\n"
     ]
    }
   ],
   "source": [
    "data_train=pd.read_csv('data_train.csv')\n",
    "data_train.info()"
   ]
  },
  {
   "cell_type": "code",
   "execution_count": 6,
   "metadata": {},
   "outputs": [
    {
     "data": {
      "text/html": [
       "<div>\n",
       "<style scoped>\n",
       "    .dataframe tbody tr th:only-of-type {\n",
       "        vertical-align: middle;\n",
       "    }\n",
       "\n",
       "    .dataframe tbody tr th {\n",
       "        vertical-align: top;\n",
       "    }\n",
       "\n",
       "    .dataframe thead th {\n",
       "        text-align: right;\n",
       "    }\n",
       "</style>\n",
       "<table border=\"1\" class=\"dataframe\">\n",
       "  <thead>\n",
       "    <tr style=\"text-align: right;\">\n",
       "      <th></th>\n",
       "      <th>Unnamed: 0</th>\n",
       "      <th>pclass</th>\n",
       "      <th>survived</th>\n",
       "      <th>name</th>\n",
       "      <th>sex</th>\n",
       "      <th>age</th>\n",
       "      <th>sibsp</th>\n",
       "      <th>parch</th>\n",
       "      <th>ticket</th>\n",
       "      <th>fare</th>\n",
       "      <th>cabin</th>\n",
       "      <th>embarked</th>\n",
       "      <th>boat</th>\n",
       "      <th>body</th>\n",
       "      <th>home.dest</th>\n",
       "    </tr>\n",
       "  </thead>\n",
       "  <tbody>\n",
       "    <tr>\n",
       "      <td>0</td>\n",
       "      <td>54</td>\n",
       "      <td>1st</td>\n",
       "      <td>1</td>\n",
       "      <td>Carter, Master. William Thornto</td>\n",
       "      <td>male</td>\n",
       "      <td>11.0</td>\n",
       "      <td>1</td>\n",
       "      <td>2</td>\n",
       "      <td>113760</td>\n",
       "      <td>120.000000</td>\n",
       "      <td>B96 B98</td>\n",
       "      <td>Southampton</td>\n",
       "      <td>4</td>\n",
       "      <td>NaN</td>\n",
       "      <td>Bryn Mawr, PA</td>\n",
       "    </tr>\n",
       "    <tr>\n",
       "      <td>1</td>\n",
       "      <td>914</td>\n",
       "      <td>3rd</td>\n",
       "      <td>0</td>\n",
       "      <td>Karlsson, Mr. Julius Konrad Eug</td>\n",
       "      <td>male</td>\n",
       "      <td>33.0</td>\n",
       "      <td>0</td>\n",
       "      <td>0</td>\n",
       "      <td>347465</td>\n",
       "      <td>7.854200</td>\n",
       "      <td>NaN</td>\n",
       "      <td>Southampton</td>\n",
       "      <td>NaN</td>\n",
       "      <td>NaN</td>\n",
       "      <td>NaN</td>\n",
       "    </tr>\n",
       "    <tr>\n",
       "      <td>2</td>\n",
       "      <td>146</td>\n",
       "      <td>1st</td>\n",
       "      <td>1</td>\n",
       "      <td>Harper, Mrs. Henry Sleeper (Myn</td>\n",
       "      <td>female</td>\n",
       "      <td>49.0</td>\n",
       "      <td>1</td>\n",
       "      <td>0</td>\n",
       "      <td>PC 17572</td>\n",
       "      <td>76.729202</td>\n",
       "      <td>D33</td>\n",
       "      <td>Cherbourg</td>\n",
       "      <td>3</td>\n",
       "      <td>NaN</td>\n",
       "      <td>New York, NY</td>\n",
       "    </tr>\n",
       "    <tr>\n",
       "      <td>3</td>\n",
       "      <td>223</td>\n",
       "      <td>1st</td>\n",
       "      <td>0</td>\n",
       "      <td>Parr, Mr. William Henry Marsh</td>\n",
       "      <td>male</td>\n",
       "      <td>NaN</td>\n",
       "      <td>0</td>\n",
       "      <td>0</td>\n",
       "      <td>112052</td>\n",
       "      <td>0.000000</td>\n",
       "      <td>NaN</td>\n",
       "      <td>Southampton</td>\n",
       "      <td>NaN</td>\n",
       "      <td>NaN</td>\n",
       "      <td>Belfast</td>\n",
       "    </tr>\n",
       "    <tr>\n",
       "      <td>4</td>\n",
       "      <td>1193</td>\n",
       "      <td>3rd</td>\n",
       "      <td>0</td>\n",
       "      <td>Scanlan, Mr. James</td>\n",
       "      <td>male</td>\n",
       "      <td>NaN</td>\n",
       "      <td>0</td>\n",
       "      <td>0</td>\n",
       "      <td>36209</td>\n",
       "      <td>7.725000</td>\n",
       "      <td>NaN</td>\n",
       "      <td>Queenstown</td>\n",
       "      <td>NaN</td>\n",
       "      <td>NaN</td>\n",
       "      <td>NaN</td>\n",
       "    </tr>\n",
       "    <tr>\n",
       "      <td>...</td>\n",
       "      <td>...</td>\n",
       "      <td>...</td>\n",
       "      <td>...</td>\n",
       "      <td>...</td>\n",
       "      <td>...</td>\n",
       "      <td>...</td>\n",
       "      <td>...</td>\n",
       "      <td>...</td>\n",
       "      <td>...</td>\n",
       "      <td>...</td>\n",
       "      <td>...</td>\n",
       "      <td>...</td>\n",
       "      <td>...</td>\n",
       "      <td>...</td>\n",
       "      <td>...</td>\n",
       "    </tr>\n",
       "    <tr>\n",
       "      <td>886</td>\n",
       "      <td>244</td>\n",
       "      <td>1st</td>\n",
       "      <td>0</td>\n",
       "      <td>Ross, Mr. John Hugo</td>\n",
       "      <td>male</td>\n",
       "      <td>36.0</td>\n",
       "      <td>0</td>\n",
       "      <td>0</td>\n",
       "      <td>13049</td>\n",
       "      <td>40.125000</td>\n",
       "      <td>A10</td>\n",
       "      <td>Cherbourg</td>\n",
       "      <td>NaN</td>\n",
       "      <td>NaN</td>\n",
       "      <td>Winnipeg, MB</td>\n",
       "    </tr>\n",
       "    <tr>\n",
       "      <td>887</td>\n",
       "      <td>732</td>\n",
       "      <td>3rd</td>\n",
       "      <td>0</td>\n",
       "      <td>Corn, Mr. Harry</td>\n",
       "      <td>male</td>\n",
       "      <td>30.0</td>\n",
       "      <td>0</td>\n",
       "      <td>0</td>\n",
       "      <td>SOTON/OQ 392090</td>\n",
       "      <td>8.050000</td>\n",
       "      <td>NaN</td>\n",
       "      <td>Southampton</td>\n",
       "      <td>NaN</td>\n",
       "      <td>NaN</td>\n",
       "      <td>London</td>\n",
       "    </tr>\n",
       "    <tr>\n",
       "      <td>888</td>\n",
       "      <td>817</td>\n",
       "      <td>3rd</td>\n",
       "      <td>0</td>\n",
       "      <td>Gilinski, Mr. Eliezer</td>\n",
       "      <td>male</td>\n",
       "      <td>22.0</td>\n",
       "      <td>0</td>\n",
       "      <td>0</td>\n",
       "      <td>14973</td>\n",
       "      <td>8.050000</td>\n",
       "      <td>NaN</td>\n",
       "      <td>Southampton</td>\n",
       "      <td>NaN</td>\n",
       "      <td>47.0</td>\n",
       "      <td>NaN</td>\n",
       "    </tr>\n",
       "    <tr>\n",
       "      <td>889</td>\n",
       "      <td>80</td>\n",
       "      <td>1st</td>\n",
       "      <td>0</td>\n",
       "      <td>Crafton, Mr. John Bertram</td>\n",
       "      <td>male</td>\n",
       "      <td>NaN</td>\n",
       "      <td>0</td>\n",
       "      <td>0</td>\n",
       "      <td>113791</td>\n",
       "      <td>26.549999</td>\n",
       "      <td>NaN</td>\n",
       "      <td>Southampton</td>\n",
       "      <td>NaN</td>\n",
       "      <td>NaN</td>\n",
       "      <td>Roachdale, IN</td>\n",
       "    </tr>\n",
       "    <tr>\n",
       "      <td>890</td>\n",
       "      <td>618</td>\n",
       "      <td>3rd</td>\n",
       "      <td>0</td>\n",
       "      <td>Allen, Mr. William Henry</td>\n",
       "      <td>male</td>\n",
       "      <td>35.0</td>\n",
       "      <td>0</td>\n",
       "      <td>0</td>\n",
       "      <td>373450</td>\n",
       "      <td>8.050000</td>\n",
       "      <td>NaN</td>\n",
       "      <td>Southampton</td>\n",
       "      <td>NaN</td>\n",
       "      <td>NaN</td>\n",
       "      <td>Lower Clapton, Middlesex or Erd</td>\n",
       "    </tr>\n",
       "  </tbody>\n",
       "</table>\n",
       "<p>891 rows × 15 columns</p>\n",
       "</div>"
      ],
      "text/plain": [
       "     Unnamed: 0 pclass  survived                             name     sex  \\\n",
       "0            54    1st         1  Carter, Master. William Thornto    male   \n",
       "1           914    3rd         0  Karlsson, Mr. Julius Konrad Eug    male   \n",
       "2           146    1st         1  Harper, Mrs. Henry Sleeper (Myn  female   \n",
       "3           223    1st         0    Parr, Mr. William Henry Marsh    male   \n",
       "4          1193    3rd         0               Scanlan, Mr. James    male   \n",
       "..          ...    ...       ...                              ...     ...   \n",
       "886         244    1st         0              Ross, Mr. John Hugo    male   \n",
       "887         732    3rd         0                  Corn, Mr. Harry    male   \n",
       "888         817    3rd         0            Gilinski, Mr. Eliezer    male   \n",
       "889          80    1st         0        Crafton, Mr. John Bertram    male   \n",
       "890         618    3rd         0         Allen, Mr. William Henry    male   \n",
       "\n",
       "      age  sibsp  parch           ticket        fare    cabin     embarked  \\\n",
       "0    11.0      1      2           113760  120.000000  B96 B98  Southampton   \n",
       "1    33.0      0      0           347465    7.854200      NaN  Southampton   \n",
       "2    49.0      1      0         PC 17572   76.729202      D33    Cherbourg   \n",
       "3     NaN      0      0           112052    0.000000      NaN  Southampton   \n",
       "4     NaN      0      0            36209    7.725000      NaN   Queenstown   \n",
       "..    ...    ...    ...              ...         ...      ...          ...   \n",
       "886  36.0      0      0            13049   40.125000      A10    Cherbourg   \n",
       "887  30.0      0      0  SOTON/OQ 392090    8.050000      NaN  Southampton   \n",
       "888  22.0      0      0            14973    8.050000      NaN  Southampton   \n",
       "889   NaN      0      0           113791   26.549999      NaN  Southampton   \n",
       "890  35.0      0      0           373450    8.050000      NaN  Southampton   \n",
       "\n",
       "    boat  body                        home.dest  \n",
       "0      4   NaN                    Bryn Mawr, PA  \n",
       "1    NaN   NaN                              NaN  \n",
       "2      3   NaN                     New York, NY  \n",
       "3    NaN   NaN                          Belfast  \n",
       "4    NaN   NaN                              NaN  \n",
       "..   ...   ...                              ...  \n",
       "886  NaN   NaN                     Winnipeg, MB  \n",
       "887  NaN   NaN                           London  \n",
       "888  NaN  47.0                              NaN  \n",
       "889  NaN   NaN                    Roachdale, IN  \n",
       "890  NaN   NaN  Lower Clapton, Middlesex or Erd  \n",
       "\n",
       "[891 rows x 15 columns]"
      ]
     },
     "execution_count": 6,
     "metadata": {},
     "output_type": "execute_result"
    }
   ],
   "source": [
    "data_train"
   ]
  },
  {
   "cell_type": "code",
   "execution_count": 131,
   "metadata": {},
   "outputs": [
    {
     "data": {
      "text/html": [
       "<div>\n",
       "<style scoped>\n",
       "    .dataframe tbody tr th:only-of-type {\n",
       "        vertical-align: middle;\n",
       "    }\n",
       "\n",
       "    .dataframe tbody tr th {\n",
       "        vertical-align: top;\n",
       "    }\n",
       "\n",
       "    .dataframe thead th {\n",
       "        text-align: right;\n",
       "    }\n",
       "</style>\n",
       "<table border=\"1\" class=\"dataframe\">\n",
       "  <thead>\n",
       "    <tr style=\"text-align: right;\">\n",
       "      <th></th>\n",
       "      <th>survived</th>\n",
       "      <th>age</th>\n",
       "      <th>sibsp</th>\n",
       "      <th>parch</th>\n",
       "      <th>fare</th>\n",
       "    </tr>\n",
       "  </thead>\n",
       "  <tbody>\n",
       "    <tr>\n",
       "      <td>count</td>\n",
       "      <td>891.000000</td>\n",
       "      <td>702.000000</td>\n",
       "      <td>891.000000</td>\n",
       "      <td>891.000000</td>\n",
       "      <td>891.000000</td>\n",
       "    </tr>\n",
       "    <tr>\n",
       "      <td>mean</td>\n",
       "      <td>0.373737</td>\n",
       "      <td>30.172483</td>\n",
       "      <td>0.517396</td>\n",
       "      <td>0.374860</td>\n",
       "      <td>32.819683</td>\n",
       "    </tr>\n",
       "    <tr>\n",
       "      <td>std</td>\n",
       "      <td>0.484067</td>\n",
       "      <td>14.342531</td>\n",
       "      <td>1.081240</td>\n",
       "      <td>0.874609</td>\n",
       "      <td>47.452511</td>\n",
       "    </tr>\n",
       "    <tr>\n",
       "      <td>min</td>\n",
       "      <td>0.000000</td>\n",
       "      <td>0.166700</td>\n",
       "      <td>0.000000</td>\n",
       "      <td>0.000000</td>\n",
       "      <td>0.000000</td>\n",
       "    </tr>\n",
       "    <tr>\n",
       "      <td>25%</td>\n",
       "      <td>0.000000</td>\n",
       "      <td>21.000000</td>\n",
       "      <td>0.000000</td>\n",
       "      <td>0.000000</td>\n",
       "      <td>7.895800</td>\n",
       "    </tr>\n",
       "    <tr>\n",
       "      <td>50%</td>\n",
       "      <td>0.000000</td>\n",
       "      <td>28.000000</td>\n",
       "      <td>0.000000</td>\n",
       "      <td>0.000000</td>\n",
       "      <td>14.458300</td>\n",
       "    </tr>\n",
       "    <tr>\n",
       "      <td>75%</td>\n",
       "      <td>1.000000</td>\n",
       "      <td>39.000000</td>\n",
       "      <td>1.000000</td>\n",
       "      <td>0.000000</td>\n",
       "      <td>31.275000</td>\n",
       "    </tr>\n",
       "    <tr>\n",
       "      <td>max</td>\n",
       "      <td>1.000000</td>\n",
       "      <td>80.000000</td>\n",
       "      <td>8.000000</td>\n",
       "      <td>9.000000</td>\n",
       "      <td>512.329224</td>\n",
       "    </tr>\n",
       "  </tbody>\n",
       "</table>\n",
       "</div>"
      ],
      "text/plain": [
       "         survived         age       sibsp       parch        fare\n",
       "count  891.000000  702.000000  891.000000  891.000000  891.000000\n",
       "mean     0.373737   30.172483    0.517396    0.374860   32.819683\n",
       "std      0.484067   14.342531    1.081240    0.874609   47.452511\n",
       "min      0.000000    0.166700    0.000000    0.000000    0.000000\n",
       "25%      0.000000   21.000000    0.000000    0.000000    7.895800\n",
       "50%      0.000000   28.000000    0.000000    0.000000   14.458300\n",
       "75%      1.000000   39.000000    1.000000    0.000000   31.275000\n",
       "max      1.000000   80.000000    8.000000    9.000000  512.329224"
      ]
     },
     "execution_count": 131,
     "metadata": {},
     "output_type": "execute_result"
    }
   ],
   "source": [
    "# 删除第一列序号和尸体编号 因为认为与是否生存相关性不大\n",
    "data_train=data_train.drop(['Unnamed: 0','body'],axis=1)\n",
    "data_train.describe()"
   ]
  },
  {
   "cell_type": "markdown",
   "metadata": {},
   "source": [
    "# 初步分析"
   ]
  },
  {
   "cell_type": "markdown",
   "metadata": {},
   "source": [
    "## 乘客的各属性分布"
   ]
  },
  {
   "cell_type": "code",
   "execution_count": 23,
   "metadata": {},
   "outputs": [
    {
     "data": {
      "image/png": "[encoded data removed]",
      "text/plain": [
       "<Figure size 432x288 with 1 Axes>"
      ]
     },
     "metadata": {
      "needs_background": "light"
     },
     "output_type": "display_data"
    }
   ],
   "source": [
    "data_train.survived.value_counts().plot(kind='bar')\n",
    "plt.title('获救人数（1为获救）',fontname='SimHei')\n",
    "plt.ylabel('人数',fontname='SimHei')\n",
    "plt.grid(True,axis='y')\n",
    "plt.show()"
   ]
  },
  {
   "cell_type": "code",
   "execution_count": 24,
   "metadata": {},
   "outputs": [
    {
     "data": {
      "image/png": "[encoded data removed]",
      "text/plain": [
       "<Figure size 432x288 with 1 Axes>"
      ]
     },
     "metadata": {
      "needs_background": "light"
     },
     "output_type": "display_data"
    }
   ],
   "source": [
    "data_train.pclass.value_counts().plot(kind='bar')\n",
    "plt.title('乘客仓位分布',fontname='SimHei')\n",
    "plt.ylabel('人数',fontname='SimHei')\n",
    "plt.grid(True,axis='y')\n",
    "plt.show()"
   ]
  },
  {
   "cell_type": "code",
   "execution_count": 25,
   "metadata": {},
   "outputs": [
    {
     "data": {
      "image/png": "[encoded data removed]",
      "text/plain": [
       "<Figure size 432x288 with 1 Axes>"
      ]
     },
     "metadata": {
      "needs_background": "light"
     },
     "output_type": "display_data"
    }
   ],
   "source": [
    "data_train.sex.value_counts().plot(kind='bar')\n",
    "plt.title('乘客性别',fontname='SimHei')\n",
    "plt.ylabel('人数',fontname='SimHei')\n",
    "plt.grid(True,axis='y')\n",
    "plt.show()"
   ]
  },
  {
   "cell_type": "code",
   "execution_count": 26,
   "metadata": {},
   "outputs": [
    {
     "data": {
      "image/png": "[encoded data removed]",
      "text/plain": [
       "<Figure size 432x288 with 1 Axes>"
      ]
     },
     "metadata": {
      "needs_background": "light"
     },
     "output_type": "display_data"
    }
   ],
   "source": [
    "data_train.embarked.value_counts().plot(kind='bar')\n",
    "plt.title('乘客上船地点分布',fontname='SimHei')\n",
    "plt.ylabel('人数',fontname='SimHei')\n",
    "plt.grid(True,axis='y')\n",
    "plt.show()"
   ]
  },
  {
   "cell_type": "code",
   "execution_count": 38,
   "metadata": {},
   "outputs": [
    {
     "data": {
      "image/png": "[encoded data removed]",
      "text/plain": [
       "<Figure size 432x288 with 1 Axes>"
      ]
     },
     "metadata": {
      "needs_background": "light"
     },
     "output_type": "display_data"
    }
   ],
   "source": [
    "data_train.age[data_train.pclass=='1st'].plot(kind='kde')\n",
    "data_train.age[data_train.pclass=='2nd'].plot(kind='kde')\n",
    "data_train.age[data_train.pclass=='3rd'].plot(kind='kde')\n",
    "plt.legend(('1st','2nd','3rd'))\n",
    "plt.grid(True)\n",
    "plt.title('乘客年龄和船舱等级分布',fontname='SimHei')\n",
    "plt.ylabel('人数密度',fontname='SimHei')\n",
    "plt.show()"
   ]
  },
  {
   "cell_type": "markdown",
   "metadata": {},
   "source": [
    "分析：\n",
    "1.不同仓位的人因为地理位置或者财富权势，可能会影响生存\n",
    "2.性别会影响生存几率（女人、小孩、老人虽然生理弱，但是救生艇机会优先让给他们）\n",
    "3.上船地点是否会有影响呢？"
   ]
  },
  {
   "cell_type": "markdown",
   "metadata": {},
   "source": [
    "## 探究属性和获救之间的关联"
   ]
  },
  {
   "cell_type": "code",
   "execution_count": 48,
   "metadata": {},
   "outputs": [
    {
     "data": {
      "image/png": "[encoded data removed]",
      "text/plain": [
       "<Figure size 432x288 with 1 Axes>"
      ]
     },
     "metadata": {
      "needs_background": "light"
     },
     "output_type": "display_data"
    }
   ],
   "source": [
    "\n",
    "s=data_train.pclass[data_train.survived== 1].value_counts()\n",
    "ds=data_train.pclass[data_train.survived== 0].value_counts()\n",
    "p_s=pd.DataFrame({u'saved':s,u'dontsaved':ds})\n",
    "p_s.plot.bar(stacked=True)\n",
    "plt.xlabel('客舱等级',fontname='SimHei')\n",
    "plt.ylabel('人数',fontname='SimHei')\n",
    "plt.title('客舱等级和获救人数的分布',fontname='SimHei')\n",
    "plt.grid(True,axis='y')\n",
    "plt.show()\n"
   ]
  },
  {
   "cell_type": "markdown",
   "metadata": {},
   "source": [
    "三级舱的人死亡人数明显多于另外两个等级。客舱等级和生存相关性大。"
   ]
  },
  {
   "cell_type": "code",
   "execution_count": 49,
   "metadata": {},
   "outputs": [
    {
     "data": {
      "image/png": "[encoded data removed]",
      "text/plain": [
       "<Figure size 432x288 with 1 Axes>"
      ]
     },
     "metadata": {
      "needs_background": "light"
     },
     "output_type": "display_data"
    }
   ],
   "source": [
    "\n",
    "s=data_train.sex[data_train.survived== 1].value_counts()\n",
    "ds=data_train.sex[data_train.survived== 0].value_counts()\n",
    "a_s=pd.DataFrame({u'saved':s,u'dontsaved':ds})\n",
    "a_s.plot.bar(stacked=True)\n",
    "plt.xlabel('性别',fontname='SimHei')\n",
    "plt.ylabel('人数',fontname='SimHei')\n",
    "plt.title('性别和获救人数的分布',fontname='SimHei')\n",
    "plt.grid(True,axis='y')\n",
    "plt.show()"
   ]
  },
  {
   "cell_type": "markdown",
   "metadata": {},
   "source": [
    "女性获救人数远大于男性获救人数，男性死亡人数大于女性死亡人数，性别的相关性很大"
   ]
  },
  {
   "cell_type": "code",
   "execution_count": 6,
   "metadata": {},
   "outputs": [
    {
     "data": {
      "image/png": "[encoded data removed]",
      "text/plain": [
       "<Figure size 432x288 with 1 Axes>"
      ]
     },
     "metadata": {
      "needs_background": "light"
     },
     "output_type": "display_data"
    }
   ],
   "source": [
    "\n",
    "s=data_train.embarked[data_train.survived== 1].value_counts()\n",
    "ds=data_train.embarked[data_train.survived== 0].value_counts()\n",
    "e_s=pd.DataFrame({u'saved':s,u'dontsaved':ds})\n",
    "e_s.plot.bar(stacked=True)\n",
    "plt.xlabel('上船地点',fontname='SimHei')\n",
    "plt.ylabel('人数',fontname='SimHei')\n",
    "plt.title('上船地点和获救人数的分布',fontname='SimHei')\n",
    "plt.grid(True,axis='y')\n",
    "plt.show()"
   ]
  },
  {
   "cell_type": "markdown",
   "metadata": {},
   "source": [
    "s港上船的人死亡率较大，另外两个港口生存和死亡率平均。可以作为特征属性。"
   ]
  },
  {
   "cell_type": "code",
   "execution_count": 66,
   "metadata": {},
   "outputs": [
    {
     "data": {
      "text/html": [
       "<div>\n",
       "<style scoped>\n",
       "    .dataframe tbody tr th:only-of-type {\n",
       "        vertical-align: middle;\n",
       "    }\n",
       "\n",
       "    .dataframe tbody tr th {\n",
       "        vertical-align: top;\n",
       "    }\n",
       "\n",
       "    .dataframe thead th {\n",
       "        text-align: right;\n",
       "    }\n",
       "</style>\n",
       "<table border=\"1\" class=\"dataframe\">\n",
       "  <thead>\n",
       "    <tr style=\"text-align: right;\">\n",
       "      <th></th>\n",
       "      <th></th>\n",
       "      <th>0</th>\n",
       "    </tr>\n",
       "    <tr>\n",
       "      <th>sibsp</th>\n",
       "      <th>survived</th>\n",
       "      <th></th>\n",
       "    </tr>\n",
       "  </thead>\n",
       "  <tbody>\n",
       "    <tr>\n",
       "      <td rowspan=\"2\" valign=\"top\">0</td>\n",
       "      <td>0</td>\n",
       "      <td>395</td>\n",
       "    </tr>\n",
       "    <tr>\n",
       "      <td>1</td>\n",
       "      <td>207</td>\n",
       "    </tr>\n",
       "    <tr>\n",
       "      <td rowspan=\"2\" valign=\"top\">1</td>\n",
       "      <td>0</td>\n",
       "      <td>110</td>\n",
       "    </tr>\n",
       "    <tr>\n",
       "      <td>1</td>\n",
       "      <td>110</td>\n",
       "    </tr>\n",
       "    <tr>\n",
       "      <td rowspan=\"2\" valign=\"top\">2</td>\n",
       "      <td>0</td>\n",
       "      <td>16</td>\n",
       "    </tr>\n",
       "    <tr>\n",
       "      <td>1</td>\n",
       "      <td>10</td>\n",
       "    </tr>\n",
       "    <tr>\n",
       "      <td rowspan=\"2\" valign=\"top\">3</td>\n",
       "      <td>0</td>\n",
       "      <td>11</td>\n",
       "    </tr>\n",
       "    <tr>\n",
       "      <td>1</td>\n",
       "      <td>4</td>\n",
       "    </tr>\n",
       "    <tr>\n",
       "      <td rowspan=\"2\" valign=\"top\">4</td>\n",
       "      <td>0</td>\n",
       "      <td>15</td>\n",
       "    </tr>\n",
       "    <tr>\n",
       "      <td>1</td>\n",
       "      <td>2</td>\n",
       "    </tr>\n",
       "    <tr>\n",
       "      <td>5</td>\n",
       "      <td>0</td>\n",
       "      <td>4</td>\n",
       "    </tr>\n",
       "    <tr>\n",
       "      <td>8</td>\n",
       "      <td>0</td>\n",
       "      <td>7</td>\n",
       "    </tr>\n",
       "  </tbody>\n",
       "</table>\n",
       "</div>"
      ],
      "text/plain": [
       "                  0\n",
       "sibsp survived     \n",
       "0     0         395\n",
       "      1         207\n",
       "1     0         110\n",
       "      1         110\n",
       "2     0          16\n",
       "      1          10\n",
       "3     0          11\n",
       "      1           4\n",
       "4     0          15\n",
       "      1           2\n",
       "5     0           4\n",
       "8     0           7"
      ]
     },
     "execution_count": 66,
     "metadata": {},
     "output_type": "execute_result"
    }
   ],
   "source": [
    "sibsp_survived=data_train.groupby(['sibsp','survived']).size()\n",
    "out=pd.DataFrame(sibsp_survived)\n",
    "out"
   ]
  },
  {
   "cell_type": "code",
   "execution_count": 68,
   "metadata": {},
   "outputs": [
    {
     "data": {
      "text/html": [
       "<div>\n",
       "<style scoped>\n",
       "    .dataframe tbody tr th:only-of-type {\n",
       "        vertical-align: middle;\n",
       "    }\n",
       "\n",
       "    .dataframe tbody tr th {\n",
       "        vertical-align: top;\n",
       "    }\n",
       "\n",
       "    .dataframe thead th {\n",
       "        text-align: right;\n",
       "    }\n",
       "</style>\n",
       "<table border=\"1\" class=\"dataframe\">\n",
       "  <thead>\n",
       "    <tr style=\"text-align: right;\">\n",
       "      <th></th>\n",
       "      <th></th>\n",
       "      <th>0</th>\n",
       "    </tr>\n",
       "    <tr>\n",
       "      <th>parch</th>\n",
       "      <th>survived</th>\n",
       "      <th></th>\n",
       "    </tr>\n",
       "  </thead>\n",
       "  <tbody>\n",
       "    <tr>\n",
       "      <td rowspan=\"2\" valign=\"top\">0</td>\n",
       "      <td>0</td>\n",
       "      <td>461</td>\n",
       "    </tr>\n",
       "    <tr>\n",
       "      <td>1</td>\n",
       "      <td>229</td>\n",
       "    </tr>\n",
       "    <tr>\n",
       "      <td rowspan=\"2\" valign=\"top\">1</td>\n",
       "      <td>0</td>\n",
       "      <td>43</td>\n",
       "    </tr>\n",
       "    <tr>\n",
       "      <td>1</td>\n",
       "      <td>66</td>\n",
       "    </tr>\n",
       "    <tr>\n",
       "      <td rowspan=\"2\" valign=\"top\">2</td>\n",
       "      <td>0</td>\n",
       "      <td>42</td>\n",
       "    </tr>\n",
       "    <tr>\n",
       "      <td>1</td>\n",
       "      <td>35</td>\n",
       "    </tr>\n",
       "    <tr>\n",
       "      <td rowspan=\"2\" valign=\"top\">3</td>\n",
       "      <td>0</td>\n",
       "      <td>3</td>\n",
       "    </tr>\n",
       "    <tr>\n",
       "      <td>1</td>\n",
       "      <td>1</td>\n",
       "    </tr>\n",
       "    <tr>\n",
       "      <td rowspan=\"2\" valign=\"top\">4</td>\n",
       "      <td>0</td>\n",
       "      <td>4</td>\n",
       "    </tr>\n",
       "    <tr>\n",
       "      <td>1</td>\n",
       "      <td>1</td>\n",
       "    </tr>\n",
       "    <tr>\n",
       "      <td rowspan=\"2\" valign=\"top\">5</td>\n",
       "      <td>0</td>\n",
       "      <td>2</td>\n",
       "    </tr>\n",
       "    <tr>\n",
       "      <td>1</td>\n",
       "      <td>1</td>\n",
       "    </tr>\n",
       "    <tr>\n",
       "      <td>6</td>\n",
       "      <td>0</td>\n",
       "      <td>1</td>\n",
       "    </tr>\n",
       "    <tr>\n",
       "      <td>9</td>\n",
       "      <td>0</td>\n",
       "      <td>2</td>\n",
       "    </tr>\n",
       "  </tbody>\n",
       "</table>\n",
       "</div>"
      ],
      "text/plain": [
       "                  0\n",
       "parch survived     \n",
       "0     0         461\n",
       "      1         229\n",
       "1     0          43\n",
       "      1          66\n",
       "2     0          42\n",
       "      1          35\n",
       "3     0           3\n",
       "      1           1\n",
       "4     0           4\n",
       "      1           1\n",
       "5     0           2\n",
       "      1           1\n",
       "6     0           1\n",
       "9     0           2"
      ]
     },
     "execution_count": 68,
     "metadata": {},
     "output_type": "execute_result"
    }
   ],
   "source": [
    "parch_survived=data_train.groupby(['parch','survived']).size()\n",
    "out=pd.DataFrame(parch_survived)\n",
    "out"
   ]
  },
  {
   "cell_type": "markdown",
   "metadata": {},
   "source": [
    "sibsp和parch没看出什么关系"
   ]
  },
  {
   "cell_type": "code",
   "execution_count": 69,
   "metadata": {},
   "outputs": [
    {
     "data": {
      "text/plain": [
       "C78            4\n",
       "C23 C25 C27    4\n",
       "F33            4\n",
       "D17            3\n",
       "A34            3\n",
       "              ..\n",
       "D11            1\n",
       "D20            1\n",
       "C87            1\n",
       "B50            1\n",
       "C118           1\n",
       "Name: cabin, Length: 145, dtype: int64"
      ]
     },
     "execution_count": 69,
     "metadata": {},
     "output_type": "execute_result"
    }
   ],
   "source": [
    "data_train.cabin.value_counts()"
   ]
  },
  {
   "cell_type": "markdown",
   "metadata": {},
   "source": [
    "cabin直接看也看不出啥"
   ]
  },
  {
   "cell_type": "code",
   "execution_count": 3,
   "metadata": {},
   "outputs": [
    {
     "data": {
      "image/png": "[encoded data removed]",
      "text/plain": [
       "<Figure size 432x288 with 1 Axes>"
      ]
     },
     "metadata": {
      "needs_background": "light"
     },
     "output_type": "display_data"
    }
   ],
   "source": [
    "has_cabin=data_train.survived[pd.notnull(data_train.cabin)].value_counts()\n",
    "donthas_cabin=data_train.survived[pd.isnull(data_train.cabin)].value_counts()\n",
    "c_s=pd.DataFrame({u'has':has_cabin,u'donthave':donthas_cabin})\n",
    "c_s.plot.bar(stacked=True) \n",
    "plt.xlabel('有无cabin',fontname='SimHei')\n",
    "plt.ylabel('人数',fontname='SimHei')\n",
    "plt.title('有无cabin和获救人数的分布',fontname='SimHei')\n",
    "plt.grid(True,axis='y')\n",
    "plt.show()"
   ]
  },
  {
   "cell_type": "markdown",
   "metadata": {},
   "source": [
    "划分了有无cabin后，看出没有cabin的死亡人数多一些"
   ]
  },
  {
   "cell_type": "code",
   "execution_count": 36,
   "metadata": {},
   "outputs": [
    {
     "data": {
      "image/png": "[encoded data removed]",
      "text/plain": [
       "<Figure size 432x288 with 4 Axes>"
      ]
     },
     "metadata": {
      "needs_background": "light"
     },
     "output_type": "display_data"
    }
   ],
   "source": [
    "plt.subplot(221)\n",
    "female_1st=data_train.survived[(data_train.sex=='female')&(data_train.pclass=='1st')].value_counts()\n",
    "female_1st.plot(kind='bar')\n",
    "plt.title('女性一等舱生存情况',fontname='SimHei')\n",
    "\n",
    "\n",
    "plt.subplot(222)\n",
    "female_3rd=data_train.survived[(data_train.sex=='female')&(data_train.pclass=='3rd')].value_counts()\n",
    "female_3rd.plot(kind='bar')\n",
    "plt.title('女性三等舱生存情况',fontname='SimHei')\n",
    "\n",
    "\n",
    "\n",
    "plt.subplot(223)\n",
    "male_1st=data_train.survived[(data_train.sex=='male')&(data_train.pclass=='1st')].value_counts()\n",
    "male_1st.plot(kind='bar')\n",
    "plt.title('男性一等舱生存情况',fontname='SimHei')\n",
    "\n",
    "\n",
    "\n",
    "plt.subplot(224)\n",
    "male_3st=data_train.survived[(data_train.sex=='male')&(data_train.pclass=='3rd')].value_counts()\n",
    "male_3st.plot(kind='bar')\n",
    "plt.title('男性三等舱生存情况',fontname='SimHei')\n",
    "\n",
    "plt.subplots_adjust(wspace =0.4, hspace =0.4)#调整子图间距\n",
    "\n",
    "\n",
    "plt.show()"
   ]
  },
  {
   "cell_type": "markdown",
   "metadata": {},
   "source": [
    "这里女性一等舱和女性三等舱的生存情况差别很大，但是后面测试时加入这两个特征也没什么效果，顾没有提及。"
   ]
  },
  {
   "cell_type": "code",
   "execution_count": null,
   "metadata": {},
   "outputs": [],
   "source": []
  }
 ],
 "metadata": {
  "kernelspec": {
   "display_name": "Python 3",
   "language": "python",
   "name": "python3"
  },
  "language_info": {
   "codemirror_mode": {
    "name": "ipython",
    "version": 3
   },
   "file_extension": ".py",
   "mimetype": "text/x-python",
   "name": "python",
   "nbconvert_exporter": "python",
   "pygments_lexer": "ipython3",
   "version": "3.7.4"
  }
 },
 "nbformat": 4,
 "nbformat_minor": 2
}
